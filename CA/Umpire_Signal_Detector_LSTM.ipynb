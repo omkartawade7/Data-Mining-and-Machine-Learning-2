{
  "nbformat": 4,
  "nbformat_minor": 0,
  "metadata": {
    "colab": {
      "name": "Umpire_Signal_Detector_LSTM.ipynb",
      "provenance": [],
      "collapsed_sections": []
    },
    "kernelspec": {
      "name": "python3",
      "display_name": "Python 3"
    },
    "language_info": {
      "name": "python"
    }
  },
  "cells": [
    {
      "cell_type": "code",
      "metadata": {
        "id": "aHFH_UeLVlDS"
      },
      "source": [
        "!pip install google-cloud-automl\n",
        "!apt-get install libmagickwand-dev\n",
        "!pip install pillow\n",
        "!pip install --upgrade protobuf\n",
        "!pip install --upgrade google-cloud-videointelligence\n",
        "!pip install ipython google-cloud-videointelligence==1.16.1"
      ],
      "execution_count": null,
      "outputs": []
    },
    {
      "cell_type": "code",
      "metadata": {
        "id": "m2qZG9DGVpI0"
      },
      "source": [
        "import sys\n",
        "import os\n",
        "import json\n",
        "import math\n",
        "\n",
        "from google.colab import drive\n",
        "from google.colab import auth\n",
        "from google.colab import files\n",
        "\n",
        "import pandas as pd\n",
        "from PIL import Image, ImageDraw\n",
        "from matplotlib import pyplot as plt\n",
        "import numpy as np\n",
        "\n",
        "from google.cloud import automl\n",
        "from google.cloud import videointelligence_v1p3beta1 as videointelligence\n",
        "from google.cloud.videointelligence import enums\n",
        "from google.oauth2 import service_account\n",
        "\n",
        "\n",
        "from sklearn.model_selection import train_test_split\n",
        "from numpy import save\n",
        "import pandas as pd\n",
        "import numpy as np\n",
        "from numpy import load\n",
        "from sklearn.preprocessing import LabelEncoder\n",
        "import matplotlib.pyplot as plt\n",
        "from keras.callbacks import ModelCheckpoint, EarlyStopping\n",
        "from keras.models import Sequential\n",
        "from keras.layers import LSTM, Dropout, Dense\n",
        "from tensorflow import keras\n",
        "\n",
        "import csv"
      ],
      "execution_count": null,
      "outputs": []
    },
    {
      "cell_type": "code",
      "metadata": {
        "id": "y64GDGcpVrHD"
      },
      "source": [
        "#Loading Google Drive\n",
        "drive.mount('/content/drive')"
      ],
      "execution_count": null,
      "outputs": []
    },
    {
      "cell_type": "code",
      "metadata": {
        "id": "sd3x_AqbVwQ-"
      },
      "source": [
        "#Google Cloud Authentication\n",
        "auth.authenticate_user()"
      ],
      "execution_count": null,
      "outputs": []
    },
    {
      "cell_type": "code",
      "metadata": {
        "id": "o6iPVq1AVxN4"
      },
      "source": [
        "#Google Cloud Project parameters\n",
        "project_id = 'project-195409'  #@param {type: \"string\"}\n",
        "bucket = 'gs://umpirepose_bucket_v2' #@param {type: \"string\"}\n",
        "service_account_name=\"dmml2v3\" #@param {type: \"string\"}"
      ],
      "execution_count": null,
      "outputs": []
    },
    {
      "cell_type": "code",
      "metadata": {
        "id": "hjJiW5-1V33u"
      },
      "source": [
        "#project_id configuration\n",
        "!gcloud config set project {project_id}\n",
        "#Create a new bucket\n",
        "!gsutil mb {bucket}\n",
        "#Create service_account_name\n",
        "!gcloud iam service-accounts create {service_account_name}\n",
        "#Created a key to access this project\n",
        "!gcloud iam service-accounts keys create ./key.json --iam-account {service_account_name}@{project_id}.iam.gserviceaccount.com\n",
        "\n",
        "# Enable the Video Intelligence API and AutoML\n",
        "!gcloud services enable videointelligence.googleapis.com\n",
        "!gcloud services enable automl.googleapis.com\n",
        "\n",
        "# Give your service account permission to access the API\n",
        "!gcloud projects add-iam-policy-binding {project_id} --member=\"serviceAccount:{service_account_name}@{project_id}.iam.gserviceaccount.com\" --role=\"roles/editor\""
      ],
      "execution_count": null,
      "outputs": []
    },
    {
      "cell_type": "code",
      "metadata": {
        "id": "wR9KV_VVV7sG"
      },
      "source": [
        "os.environ[\"GOOGLE_APPLICATION_CREDENTIALS\"] = \"./key.json\""
      ],
      "execution_count": null,
      "outputs": []
    },
    {
      "cell_type": "code",
      "metadata": {
        "id": "aPwTM5V7V_jS"
      },
      "source": [
        "#Create file names for two signals noball and out\n",
        "obj_noball = {}\n",
        "obj_out = {}\n",
        "numbers = list(range(1,51,1))\n",
        "for index in numbers:\n",
        "  obj_noball[\"test_noball\" + str(index)] = []\n",
        "  obj_out[\"test_out\" + str(index)] = []"
      ],
      "execution_count": null,
      "outputs": []
    },
    {
      "cell_type": "code",
      "metadata": {
        "id": "ZkxteHlQWQ1n"
      },
      "source": [
        "for keys in obj_noball.keys():\n",
        "  file_to_analyze = keys + \".mp4\" \n",
        "  input_uri = os.path.join(bucket, file_to_analyze)\n",
        "  output_uri = os.path.join(bucket, keys+ '.json')\n",
        "\n",
        "#This function is avaiable on \"https://cloud.google.com/video-intelligence/docs/people-detection\" to detect person in the video\n",
        "  def detect_person(input_uri, output_uri):\n",
        "      \"\"\"Detects people in a video.\"\"\"\n",
        "      client = videointelligence.VideoIntelligenceServiceClient(credentials=service_account.Credentials.from_service_account_file(\n",
        "      './key.json'))\n",
        "\n",
        "      # Configure the request\n",
        "      config = videointelligence.types.PersonDetectionConfig(\n",
        "          include_bounding_boxes=True,\n",
        "          include_attributes=True,\n",
        "          include_pose_landmarks=True,\n",
        "      )\n",
        "      context = videointelligence.types.VideoContext(person_detection_config=config)\n",
        "\n",
        "      # Start the asynchronous request\n",
        "      operation = client.annotate_video(\n",
        "          input_uri=input_uri,\n",
        "          output_uri=output_uri,\n",
        "          features=[enums.Feature.PERSON_DETECTION],\n",
        "          video_context=context,\n",
        "      )\n",
        "\n",
        "      return operation\n",
        "  operation = detect_person(input_uri, output_uri)\n",
        "  !mkdir tmp2\n",
        "  !gsutil cp {output_uri} tmp2"
      ],
      "execution_count": null,
      "outputs": []
    },
    {
      "cell_type": "code",
      "metadata": {
        "id": "RNVw10_zWVmh"
      },
      "source": [
        "for keys in obj_out.keys():\n",
        "  file_to_analyze = keys + \".mp4\" \n",
        "  input_uri = os.path.join(bucket, file_to_analyze)\n",
        "  output_uri = os.path.join(bucket, keys+ '.json')\n",
        "\n",
        "#This function is avaiable on \"https://cloud.google.com/video-intelligence/docs/people-detection\" to detect person in the video\n",
        "  def detect_person(input_uri, output_uri):\n",
        "      \"\"\"Detects people in a video.\"\"\"\n",
        "\n",
        "      client = videointelligence.VideoIntelligenceServiceClient(credentials=service_account.Credentials.from_service_account_file(\n",
        "      './key.json'))\n",
        "\n",
        "      # Configure the request\n",
        "      config = videointelligence.types.PersonDetectionConfig(\n",
        "          include_bounding_boxes=True,\n",
        "          include_attributes=True,\n",
        "          include_pose_landmarks=True,\n",
        "      )\n",
        "      context = videointelligence.types.VideoContext(person_detection_config=config)\n",
        "\n",
        "      # Start the asynchronous request\n",
        "      operation = client.annotate_video(\n",
        "          input_uri=input_uri,\n",
        "          output_uri=output_uri,\n",
        "          features=[enums.Feature.PERSON_DETECTION],\n",
        "          video_context=context,\n",
        "      )\n",
        "\n",
        "      return operation\n",
        "  operation = detect_person(input_uri, output_uri)\n",
        "  !mkdir tmp2\n",
        "  !gsutil cp {output_uri} tmp2"
      ],
      "execution_count": null,
      "outputs": []
    },
    {
      "cell_type": "code",
      "metadata": {
        "id": "6aGEloaFWXVW"
      },
      "source": [
        "#This function takes in a person and rearranges the data so it's in a timeline, which will make it easier for us to work with\n",
        "def analyzePerson(person):\n",
        "  frames = []\n",
        "  for track in person['tracks']:\n",
        "    # Convert timestamps to seconds\n",
        "    for ts_obj in track['timestamped_objects']:\n",
        "      time_offset = ts_obj['time_offset']\n",
        "      timestamp = 0\n",
        "      if 'nanos' in time_offset:\n",
        "        timestamp += time_offset['nanos'] / 10**9\n",
        "      if 'seconds' in time_offset:\n",
        "        timestamp += time_offset['seconds']\n",
        "      if 'minutes' in time_offset:\n",
        "        timestamp += time_offset['minutes'] * 60\n",
        "      frame= {'timestamp' : timestamp}\n",
        "      for landmark in ts_obj['landmarks']:\n",
        "        frame[landmark['name'] + '_x'] = landmark['point']['x']\n",
        "        # Subtract y value from 1 because positions are calculated\n",
        "        # from the top left corner\n",
        "        frame[landmark['name'] + '_y'] = 1 - landmark['point']['y']\n",
        "      frames.append(frame)\n",
        "  sorted(frames, key=lambda x: x['timestamp'])\n",
        "  return frames"
      ],
      "execution_count": null,
      "outputs": []
    },
    {
      "cell_type": "code",
      "metadata": {
        "id": "L2ZwBohwWdIT"
      },
      "source": [
        "#Json file parsing and stored in dataframe\n",
        "noball_Pd = pd.DataFrame([])\n",
        "out_Pd = pd.DataFrame([])\n",
        "for keys in obj_noball.keys():\n",
        "  data = json.load(open('/content/tmp/' + keys + '.json'))\n",
        "  people_annotations = data['annotation_results'][0]['person_detection_annotations']\n",
        "  annotationsPd = pd.DataFrame(analyzePerson(people_annotations[0]))\n",
        "  noball_Pd = noball_Pd.append(annotationsPd)\n",
        "for keys in obj_out.keys():\n",
        "  data = json.load(open('/content/tmp/' + keys + '.json'))\n",
        "  people_annotations = data['annotation_results'][0]['person_detection_annotations']\n",
        "  annotationsPd = pd.DataFrame(analyzePerson(people_annotations[0]))\n",
        "  out_Pd = out_Pd.append(annotationsPd)\n",
        "noball_Pd.to_csv(r'/content/noball_Pd.csv', index = False, header=True)\n",
        "out_Pd.to_csv(r'/content/out_Pd.csv', index = False, header=True)"
      ],
      "execution_count": null,
      "outputs": []
    },
    {
      "cell_type": "code",
      "metadata": {
        "colab": {
          "base_uri": "https://localhost:8080/"
        },
        "id": "Dt4oKu4YWni6",
        "outputId": "f993fc82-fa4f-4818-8165-caf5acabfacb"
      },
      "source": [
        "#Check the NA's in the dataset\n",
        "column_means = noball_Pd.mean()\n",
        "noball_Pd.fillna(column_means, inplace=True)\n",
        "column_means = out_Pd.mean()\n",
        "out_Pd.fillna(column_means, inplace=True)\n",
        "\n",
        "print(noball_Pd.isnull().values.any())\n",
        "print(out_Pd.isnull().values.any())"
      ],
      "execution_count": null,
      "outputs": [
        {
          "output_type": "stream",
          "text": [
            "False\n",
            "False\n"
          ],
          "name": "stdout"
        }
      ]
    },
    {
      "cell_type": "code",
      "metadata": {
        "colab": {
          "base_uri": "https://localhost:8080/"
        },
        "id": "bLX4_Kw6Wtrl",
        "outputId": "ed871271-97a2-4678-861d-7168d7e13aeb"
      },
      "source": [
        "#Mostly upper body part cordinates will change so remving the lowe body part coordinates\n",
        "noball_Pd.drop(['left_ankle_x', 'left_ankle_y', 'right_ankle_x','right_ankle_y','left_knee_x', 'left_knee_y', 'right_knee_x','right_knee_y'], axis = 1, inplace=True) \n",
        "#noball_Pd.drop(['left_knee_x', 'left_knee_y', 'right_knee_x','right_knee_y'], axis = 1, inplace=True) \n",
        "out_Pd.drop(['left_knee_x', 'left_knee_y', 'right_knee_x','right_knee_y'], axis = 1, inplace=True) \n",
        "#out_Pd.drop(['left_ankle_x', 'left_ankle_y', 'right_ankle_x','right_ankle_y','left_knee_x', 'left_knee_y', 'right_knee_x','right_knee_y'], axis = 1, inplace=True) \n",
        "print(noball_Pd)\n",
        "print(out_Pd)"
      ],
      "execution_count": null,
      "outputs": [
        {
          "output_type": "stream",
          "text": [
            "    timestamp    nose_x    nose_y  ...  left_hip_y  right_hip_x  right_hip_y\n",
            "0         0.0  0.468204  0.845818  ...    0.389503     0.426430     0.393977\n",
            "1         0.1  0.469055  0.852183  ...    0.386314     0.427625     0.386314\n",
            "2         0.2  0.466370  0.852608  ...    0.392038     0.428696     0.392038\n",
            "3         0.3  0.466311  0.850931  ...    0.387964     0.427712     0.383512\n",
            "4         0.4  0.464404  0.852926  ...    0.391466     0.426298     0.387071\n",
            "..        ...       ...       ...  ...         ...          ...          ...\n",
            "26        2.6  0.486819  0.668361  ...    0.222033     0.429662     0.229174\n",
            "27        2.7  0.484276  0.666302  ...    0.222535     0.429376     0.226113\n",
            "28        2.8  0.484198  0.665778  ...    0.218785     0.429342     0.225937\n",
            "29        2.9  0.484944  0.665427  ...    0.218670     0.430117     0.225818\n",
            "30        3.0  0.481619  0.665694  ...    0.222333     0.429154     0.229484\n",
            "\n",
            "[1401 rows x 27 columns]\n",
            "    timestamp    nose_x    nose_y  ...  left_hip_y  right_hip_x  right_hip_y\n",
            "0         0.0  0.469584  0.677368  ...    0.254357     0.424912     0.254357\n",
            "1         0.1  0.469455  0.677639  ...    0.254535     0.424773     0.258061\n",
            "2         0.2  0.469671  0.677104  ...    0.248575     0.424791     0.255658\n",
            "3         0.3  0.470505  0.671053  ...    0.255565     0.426259     0.255565\n",
            "4         0.4  0.474493  0.668530  ...    0.259431     0.427850     0.259431\n",
            "..        ...       ...       ...  ...         ...          ...          ...\n",
            "31        3.1  0.499710  0.707671  ...    0.269655     0.451019     0.269655\n",
            "32        3.2  0.500570  0.706815  ...    0.269074     0.449477     0.269074\n",
            "33        3.3  0.500874  0.707942  ...    0.267449     0.449459     0.267449\n",
            "34        3.4  0.500768  0.706398  ...    0.269732     0.451819     0.269732\n",
            "35        3.5  0.501760  0.707995  ...    0.268895     0.450508     0.268895\n",
            "\n",
            "[1577 rows x 27 columns]\n"
          ],
          "name": "stdout"
        }
      ]
    },
    {
      "cell_type": "code",
      "metadata": {
        "colab": {
          "base_uri": "https://localhost:8080/"
        },
        "id": "aWYj9KevXDL2",
        "outputId": "93fcdc2c-0180-4c56-9932-beb49c67e067"
      },
      "source": [
        "#Storing the copy of dataframe\n",
        "no_test = noball_Pd.reset_index()\n",
        "no_test.drop(\"index\",axis=1,inplace=True)\n",
        "out_test = out_Pd.reset_index()\n",
        "out_test.drop(\"index\",axis=1,inplace=True)\n",
        "print(no_test)\n",
        "print(out_test)"
      ],
      "execution_count": null,
      "outputs": [
        {
          "output_type": "stream",
          "text": [
            "      timestamp    nose_x    nose_y  ...  left_hip_y  right_hip_x  right_hip_y\n",
            "0           0.0  0.468204  0.845818  ...    0.389503     0.426430     0.393977\n",
            "1           0.1  0.469055  0.852183  ...    0.386314     0.427625     0.386314\n",
            "2           0.2  0.466370  0.852608  ...    0.392038     0.428696     0.392038\n",
            "3           0.3  0.466311  0.850931  ...    0.387964     0.427712     0.383512\n",
            "4           0.4  0.464404  0.852926  ...    0.391466     0.426298     0.387071\n",
            "...         ...       ...       ...  ...         ...          ...          ...\n",
            "1396        2.6  0.486819  0.668361  ...    0.222033     0.429662     0.229174\n",
            "1397        2.7  0.484276  0.666302  ...    0.222535     0.429376     0.226113\n",
            "1398        2.8  0.484198  0.665778  ...    0.218785     0.429342     0.225937\n",
            "1399        2.9  0.484944  0.665427  ...    0.218670     0.430117     0.225818\n",
            "1400        3.0  0.481619  0.665694  ...    0.222333     0.429154     0.229484\n",
            "\n",
            "[1401 rows x 27 columns]\n",
            "      timestamp    nose_x    nose_y  ...  left_hip_y  right_hip_x  right_hip_y\n",
            "0           0.0  0.469584  0.677368  ...    0.254357     0.424912     0.254357\n",
            "1           0.1  0.469455  0.677639  ...    0.254535     0.424773     0.258061\n",
            "2           0.2  0.469671  0.677104  ...    0.248575     0.424791     0.255658\n",
            "3           0.3  0.470505  0.671053  ...    0.255565     0.426259     0.255565\n",
            "4           0.4  0.474493  0.668530  ...    0.259431     0.427850     0.259431\n",
            "...         ...       ...       ...  ...         ...          ...          ...\n",
            "1572        3.1  0.499710  0.707671  ...    0.269655     0.451019     0.269655\n",
            "1573        3.2  0.500570  0.706815  ...    0.269074     0.449477     0.269074\n",
            "1574        3.3  0.500874  0.707942  ...    0.267449     0.449459     0.267449\n",
            "1575        3.4  0.500768  0.706398  ...    0.269732     0.451819     0.269732\n",
            "1576        3.5  0.501760  0.707995  ...    0.268895     0.450508     0.268895\n",
            "\n",
            "[1577 rows x 27 columns]\n"
          ],
          "name": "stdout"
        }
      ]
    },
    {
      "cell_type": "code",
      "metadata": {
        "colab": {
          "base_uri": "https://localhost:8080/"
        },
        "id": "uNwDFdE1XNTl",
        "outputId": "c65beedd-67e1-4888-9442-c1cdfcae04b6"
      },
      "source": [
        "#Creating a list which contains the starting index and ending video data index\n",
        "zero_index_no = no_test[no_test[\"timestamp\"]==0].index.to_list()  \n",
        "#zero_index_n0_no =  zero_index_no[1:] \n",
        "zero_index_n0_no = []\n",
        "for i in range(len(zero_index_no)):\n",
        "  if (i>0):\n",
        "    zero_index_n0_no.append(zero_index_no[i]+1)\n",
        "zero_index_n0_no.append(len(no_test))\n",
        "zero_index_out = out_test[out_test[\"timestamp\"]==0].index.to_list()\n",
        "#zero_index_n0_out =  zero_index_out[1:]\n",
        "zero_index_n0_out = []\n",
        "for i in range(len(zero_index_no)):\n",
        "  if (i>0):\n",
        "    zero_index_n0_out.append(zero_index_out[i]+1)\n",
        "zero_index_n0_out.append(len(out_test))\n",
        "print(zero_index_no)\n",
        "print(zero_index_n0_no)\n",
        "print(zero_index_out)\n",
        "print(zero_index_n0_out)"
      ],
      "execution_count": null,
      "outputs": [
        {
          "output_type": "stream",
          "text": [
            "[0, 35, 64, 93, 125, 155, 184, 211, 239, 266, 296, 321, 347, 372, 399, 422, 449, 474, 499, 527, 552, 577, 601, 625, 649, 677, 707, 727, 755, 782, 813, 842, 865, 896, 925, 958, 991, 1016, 1044, 1087, 1108, 1136, 1163, 1194, 1224, 1254, 1279, 1316, 1344, 1370]\n",
            "[36, 65, 94, 126, 156, 185, 212, 240, 267, 297, 322, 348, 373, 400, 423, 450, 475, 500, 528, 553, 578, 602, 626, 650, 678, 708, 728, 756, 783, 814, 843, 866, 897, 926, 959, 992, 1017, 1045, 1088, 1109, 1137, 1164, 1195, 1225, 1255, 1280, 1317, 1345, 1371, 1401]\n",
            "[0, 51, 97, 128, 162, 192, 223, 258, 289, 329, 358, 386, 423, 451, 480, 509, 538, 578, 615, 644, 674, 703, 733, 762, 789, 816, 847, 876, 905, 935, 962, 991, 1018, 1043, 1075, 1119, 1148, 1174, 1200, 1232, 1270, 1299, 1330, 1359, 1387, 1417, 1444, 1473, 1503, 1541]\n",
            "[52, 98, 129, 163, 193, 224, 259, 290, 330, 359, 387, 424, 452, 481, 510, 539, 579, 616, 645, 675, 704, 734, 763, 790, 817, 848, 877, 906, 936, 963, 992, 1019, 1044, 1076, 1120, 1149, 1175, 1201, 1233, 1271, 1300, 1331, 1360, 1388, 1418, 1445, 1474, 1504, 1542, 1577]\n"
          ],
          "name": "stdout"
        }
      ]
    },
    {
      "cell_type": "code",
      "metadata": {
        "id": "A3oMV7ibXRCF"
      },
      "source": [
        "#Dropping the timestamp from the dataframe\n",
        "no_test = no_test.drop(\"timestamp\",axis=1)\n",
        "out_test = out_test.drop(\"timestamp\",axis=1)"
      ],
      "execution_count": null,
      "outputs": []
    },
    {
      "cell_type": "code",
      "metadata": {
        "id": "oWyd9Zz6XUIw"
      },
      "source": [
        "#Every alternate video's data is subtracted from the previous videos data last frame data\n",
        "for item, num in zip (zero_index_no,zero_index_n0_no):\n",
        "  no_test.loc[item:num,:] = no_test.loc[item:num,:] - no_test.loc[item,:]\n",
        "  print (no_test.loc[item:num,:])\n",
        "for item, num in zip (zero_index_out,zero_index_n0_out):\n",
        "    out_test.loc[item:num,:] = out_test.loc[item:num,:] - out_test.loc[item,:]\n",
        "print(no_test)\n",
        "print(out_test)"
      ],
      "execution_count": null,
      "outputs": []
    },
    {
      "cell_type": "code",
      "metadata": {
        "id": "_dEY00SsXW1m"
      },
      "source": [
        "#Stored in the dictionary \n",
        "noball = {}\n",
        "out = {}\n",
        "for index, num in zip(zero_index_no,zero_index_n0_no):\n",
        "  noball[\"noball\" + str(index)] = no_test.iloc[index:num,:]\n",
        "for index, num in zip(zero_index_out,zero_index_n0_out):\n",
        "  out[\"out\" + str(index)] = out_test.iloc[index:num,:]\n",
        "\n",
        "print(noball)\n",
        "print(out)"
      ],
      "execution_count": null,
      "outputs": []
    },
    {
      "cell_type": "code",
      "metadata": {
        "id": "0rQaVPSKXjTk"
      },
      "source": [
        "#Stored each record of no ball and out in the numpy array \n",
        "sequence_noball = []\n",
        "sequence_out = []\n",
        "for key in noball:\n",
        "  sequence_noball.append(noball[key].values)\n",
        "for key in out:\n",
        "  sequence_out.append(out[key].values)\n",
        "print(\"No ball\")\n",
        "print(sequence_noball[49])\n",
        "print(\"Out\")\n",
        "print(sequence_out[49])"
      ],
      "execution_count": null,
      "outputs": []
    },
    {
      "cell_type": "code",
      "metadata": {
        "colab": {
          "base_uri": "https://localhost:8080/",
          "height": 312
        },
        "id": "hX7ihCP1XoBp",
        "outputId": "f57bbe54-9ff8-479d-d6d8-181f382a89d1"
      },
      "source": [
        "#Plotting ferquency of length of sequences of no ball \n",
        "len_sequences = []\n",
        "for one_seq in sequence_noball:\n",
        "    len_sequences.append(len(one_seq))\n",
        "print(\"Length of sequences of no ball: \")\n",
        "print (max(len_sequences))\n",
        "pd.Series(len_sequences).hist()"
      ],
      "execution_count": null,
      "outputs": [
        {
          "output_type": "stream",
          "text": [
            "Length of sequences of no ball: \n",
            "44\n"
          ],
          "name": "stdout"
        },
        {
          "output_type": "execute_result",
          "data": {
            "text/plain": [
              "<matplotlib.axes._subplots.AxesSubplot at 0x7f0952f13350>"
            ]
          },
          "metadata": {
            "tags": []
          },
          "execution_count": 41
        },
        {
          "output_type": "display_data",
          "data": {
            "image/png": "[encoded data removed]",
            "text/plain": [
              "<Figure size 432x288 with 1 Axes>"
            ]
          },
          "metadata": {
            "tags": [],
            "needs_background": "light"
          }
        }
      ]
    },
    {
      "cell_type": "code",
      "metadata": {
        "colab": {
          "base_uri": "https://localhost:8080/",
          "height": 312
        },
        "id": "OsX-vHiBXo1a",
        "outputId": "830802c2-493f-4039-ab85-c03b9096371e"
      },
      "source": [
        "#Plotting ferquency of length of sequences of out\n",
        "for one_seq in sequence_out:\n",
        "    len_sequences.append(len(one_seq))\n",
        "print(\"Length of sequences of out: \")\n",
        "print (max(len_sequences))\n",
        "pd.Series(len_sequences).hist()"
      ],
      "execution_count": null,
      "outputs": [
        {
          "output_type": "stream",
          "text": [
            "Length of sequences of out: \n",
            "52\n"
          ],
          "name": "stdout"
        },
        {
          "output_type": "execute_result",
          "data": {
            "text/plain": [
              "<matplotlib.axes._subplots.AxesSubplot at 0x7f094e825cd0>"
            ]
          },
          "metadata": {
            "tags": []
          },
          "execution_count": 42
        },
        {
          "output_type": "display_data",
          "data": {
            "image/png": "[encoded data removed]",
            "text/plain": [
              "<Figure size 432x288 with 1 Axes>"
            ]
          },
          "metadata": {
            "tags": [],
            "needs_background": "light"
          }
        }
      ]
    },
    {
      "cell_type": "code",
      "metadata": {
        "id": "7XoSbszfXuoM"
      },
      "source": [
        "#Padding the sequence with the values in last row to max length\n",
        "to_pad = 44\n",
        "#to_pad = 35\n",
        "new_seq = []\n",
        "for one_seq in sequence_noball:\n",
        "    len_one_seq = len(one_seq)\n",
        "    last_val = one_seq[-1]\n",
        "    n = to_pad - len_one_seq\n",
        "   \n",
        "    to_concat = np.repeat(one_seq[-1], n).reshape(26, n).transpose()\n",
        "    new_one_seq = np.concatenate([one_seq, to_concat])\n",
        "    new_seq.append(new_one_seq)\n",
        "final_seq_noball = np.stack(new_seq)\n",
        "\n",
        "#truncate the sequence to length 24\n",
        "from keras.preprocessing import sequence\n",
        "seq_len = 24\n",
        "final_seq_noball=sequence.pad_sequences(final_seq_noball, maxlen=seq_len, padding='post', dtype='float', truncating='pre')\n",
        "print(final_seq_noball)"
      ],
      "execution_count": null,
      "outputs": []
    },
    {
      "cell_type": "code",
      "metadata": {
        "id": "4565K_4jXvpe"
      },
      "source": [
        "#Padding the sequence with the values in last row to max length\n",
        "to_pad = 52\n",
        "#to_pad = 35\n",
        "new_seq = []\n",
        "for one_seq in sequence_out:\n",
        "    len_one_seq = len(one_seq)\n",
        "    last_val = one_seq[-1]\n",
        "    n = to_pad - len_one_seq\n",
        "   \n",
        "    to_concat = np.repeat(one_seq[-1], n).reshape(26, n).transpose()\n",
        "    new_one_seq = np.concatenate([one_seq, to_concat])\n",
        "    new_seq.append(new_one_seq)\n",
        "final_seq_out = np.stack(new_seq)\n",
        "#truncate the sequence to length 24\n",
        "from keras.preprocessing import sequence\n",
        "seq_len = 24\n",
        "final_seq_out=sequence.pad_sequences(final_seq_out, maxlen=seq_len, padding='post', dtype='float', truncating='pre')\n",
        "print(final_seq_out)"
      ],
      "execution_count": null,
      "outputs": []
    },
    {
      "cell_type": "code",
      "metadata": {
        "colab": {
          "base_uri": "https://localhost:8080/"
        },
        "id": "RJrhkt3kX1uj",
        "outputId": "593f14e8-c651-4197-da9e-986419c869ac"
      },
      "source": [
        "#Labels\n",
        "noball_label = [\"No Ball\"]*50\n",
        "out_label = [\"Out\"]*50\n",
        "label_data = noball_label + out_label \n",
        "len(label_data)"
      ],
      "execution_count": null,
      "outputs": [
        {
          "output_type": "execute_result",
          "data": {
            "text/plain": [
              "100"
            ]
          },
          "metadata": {
            "tags": []
          },
          "execution_count": 46
        }
      ]
    },
    {
      "cell_type": "code",
      "metadata": {
        "colab": {
          "base_uri": "https://localhost:8080/"
        },
        "id": "yk9ZQJ12X4d5",
        "outputId": "82d52d74-19b3-456c-aef9-53a7e8f219bf"
      },
      "source": [
        "#Final sequence of no ball and out\n",
        "final_seq_noball = np.array(final_seq_noball)\n",
        "final_seq_out = np.array(final_seq_out)\n",
        "print(final_seq_noball.shape)\n",
        "print(final_seq_out.shape)"
      ],
      "execution_count": null,
      "outputs": [
        {
          "output_type": "stream",
          "text": [
            "(50, 24, 26)\n",
            "(50, 24, 26)\n"
          ],
          "name": "stdout"
        }
      ]
    },
    {
      "cell_type": "code",
      "metadata": {
        "colab": {
          "base_uri": "https://localhost:8080/"
        },
        "id": "yRVHy3_-X9g8",
        "outputId": "0289edba-e734-41b4-c16c-d2f14fb651e6"
      },
      "source": [
        "#Stacking the sequence of noball and out \n",
        "final_seq_train = np.vstack((final_seq_noball,final_seq_out))\n",
        "final_seq_train.shape"
      ],
      "execution_count": null,
      "outputs": [
        {
          "output_type": "execute_result",
          "data": {
            "text/plain": [
              "(100, 24, 26)"
            ]
          },
          "metadata": {
            "tags": []
          },
          "execution_count": 48
        }
      ]
    },
    {
      "cell_type": "code",
      "metadata": {
        "id": "63LSPy88YB0q"
      },
      "source": [
        "#Splitting the data for training\n",
        "x_train,x_test,y_train,y_test = train_test_split(final_seq_train,label_data,test_size = 0.25,random_state=2)"
      ],
      "execution_count": null,
      "outputs": []
    },
    {
      "cell_type": "code",
      "metadata": {
        "colab": {
          "base_uri": "https://localhost:8080/"
        },
        "id": "IFaDtoxtYVPl",
        "outputId": "96fe782c-0ab9-4c35-9cbf-b603fa95a1a1"
      },
      "source": [
        "print(len(x_train))\n",
        "print(len(x_test))\n",
        "print(len(y_train))\n",
        "print(len(y_test))"
      ],
      "execution_count": null,
      "outputs": [
        {
          "output_type": "stream",
          "text": [
            "75\n",
            "25\n",
            "75\n",
            "25\n"
          ],
          "name": "stdout"
        }
      ]
    },
    {
      "cell_type": "code",
      "metadata": {
        "id": "D-bad3QfYlMY"
      },
      "source": [
        "#Saved train and tes data\n",
        "save(\"x_train\",x_train)\n",
        "save(\"x_test\",x_test)\n",
        "save(\"y_train\",y_train)\n",
        "save(\"y_test\",y_test)"
      ],
      "execution_count": null,
      "outputs": []
    },
    {
      "cell_type": "code",
      "metadata": {
        "id": "Ik19m0s2YpOr"
      },
      "source": [
        "np.save(\"classify_this\",final_seq_train)"
      ],
      "execution_count": null,
      "outputs": []
    },
    {
      "cell_type": "code",
      "metadata": {
        "id": "1-3DzXNtYtZi"
      },
      "source": [
        "#Loading train and test data\n",
        "x_train = load(\"x_train.npy\")\n",
        "y_train = load(\"y_train.npy\")\n",
        "x_test = load(\"x_test.npy\")\n",
        "y_test = load(\"y_test.npy\")"
      ],
      "execution_count": null,
      "outputs": []
    },
    {
      "cell_type": "code",
      "metadata": {
        "colab": {
          "base_uri": "https://localhost:8080/"
        },
        "id": "EgBupuyyYwFC",
        "outputId": "70654807-2bea-49e0-864b-281d32961ff3"
      },
      "source": [
        "#Encoding of labels \n",
        "print(y_train[0])\n",
        "print(y_test[0])\n",
        "le = LabelEncoder()\n",
        "y_train = le.fit_transform(y_train)\n",
        "y_test = le.fit_transform(y_test)\n",
        "print(y_train[0])\n",
        "print(y_test[0])"
      ],
      "execution_count": null,
      "outputs": [
        {
          "output_type": "stream",
          "text": [
            "No Ball\n",
            "Out\n",
            "0\n",
            "1\n"
          ],
          "name": "stdout"
        }
      ]
    },
    {
      "cell_type": "code",
      "metadata": {
        "id": "7exrqGawYy2S"
      },
      "source": [
        "#LST Model\n",
        "model = Sequential()\n",
        "model.add(LSTM(32,activation=\"tanh\",input_shape = (24,26),return_sequences=True))\n",
        "model.add(Dropout(0.30))\n",
        "model.add(LSTM(32))\n",
        "model.add(Dense(2,activation=\"softmax\"))"
      ],
      "execution_count": null,
      "outputs": []
    },
    {
      "cell_type": "code",
      "metadata": {
        "id": "jd8QkMDAY3lu"
      },
      "source": [
        "#Model paramters \n",
        "model.compile(loss=\"sparse_categorical_crossentropy\",optimizer=\"adam\",metrics=[\"accuracy\"])"
      ],
      "execution_count": null,
      "outputs": []
    },
    {
      "cell_type": "code",
      "metadata": {
        "colab": {
          "base_uri": "https://localhost:8080/"
        },
        "id": "3E7rh7Z5Y7ZD",
        "outputId": "7029fcfa-14ad-4489-c092-d97602921017"
      },
      "source": [
        "#Training the model\n",
        "training = model.fit(x_train,y_train,epochs=5, batch_size=1,validation_split=0.25,verbose=1)\n",
        "history = training.history"
      ],
      "execution_count": null,
      "outputs": [
        {
          "output_type": "stream",
          "text": [
            "Epoch 1/5\n",
            "56/56 [==============================] - 6s 41ms/step - loss: 0.6908 - accuracy: 0.6113 - val_loss: 0.6893 - val_accuracy: 0.4211\n",
            "Epoch 2/5\n",
            "56/56 [==============================] - 1s 17ms/step - loss: 0.5694 - accuracy: 0.8339 - val_loss: 0.4863 - val_accuracy: 0.8421\n",
            "Epoch 3/5\n",
            "56/56 [==============================] - 1s 25ms/step - loss: 0.4334 - accuracy: 0.8042 - val_loss: 0.4271 - val_accuracy: 0.8947\n",
            "Epoch 4/5\n",
            "56/56 [==============================] - 1s 25ms/step - loss: 0.2101 - accuracy: 0.9320 - val_loss: 0.3785 - val_accuracy: 0.8421\n",
            "Epoch 5/5\n",
            "56/56 [==============================] - 1s 20ms/step - loss: 0.3016 - accuracy: 0.8315 - val_loss: 0.4026 - val_accuracy: 0.8421\n"
          ],
          "name": "stdout"
        }
      ]
    },
    {
      "cell_type": "code",
      "metadata": {
        "colab": {
          "base_uri": "https://localhost:8080/",
          "height": 280
        },
        "id": "LDMTaiKeY-I5",
        "outputId": "84c91cfc-6a97-49d8-e3a7-f93c4e8e0908"
      },
      "source": [
        "#Training and Validation Accuracy Plot\n",
        "plt.plot(history[\"accuracy\"])\n",
        "plt.plot(history[\"val_accuracy\"])"
      ],
      "execution_count": null,
      "outputs": [
        {
          "output_type": "execute_result",
          "data": {
            "text/plain": [
              "[<matplotlib.lines.Line2D at 0x7f094772ac50>]"
            ]
          },
          "metadata": {
            "tags": []
          },
          "execution_count": 254
        },
        {
          "output_type": "display_data",
          "data": {
            "image/png": "[encoded data removed]",
            "text/plain": [
              "<Figure size 432x288 with 1 Axes>"
            ]
          },
          "metadata": {
            "tags": [],
            "needs_background": "light"
          }
        }
      ]
    },
    {
      "cell_type": "code",
      "metadata": {
        "colab": {
          "base_uri": "https://localhost:8080/",
          "height": 280
        },
        "id": "oNJltADF2RRf",
        "outputId": "76ca31cd-f7b0-435c-f989-aabd231f245a"
      },
      "source": [
        "#Training and Validation Loss Plot\n",
        "plt.plot(history[\"loss\"])\n",
        "plt.plot(history[\"val_loss\"])"
      ],
      "execution_count": null,
      "outputs": [
        {
          "output_type": "execute_result",
          "data": {
            "text/plain": [
              "[<matplotlib.lines.Line2D at 0x7f0949bb4c10>]"
            ]
          },
          "metadata": {
            "tags": []
          },
          "execution_count": 255
        },
        {
          "output_type": "display_data",
          "data": {
            "image/png": "[encoded data removed]",
            "text/plain": [
              "<Figure size 432x288 with 1 Axes>"
            ]
          },
          "metadata": {
            "tags": [],
            "needs_background": "light"
          }
        }
      ]
    }
  ]
}