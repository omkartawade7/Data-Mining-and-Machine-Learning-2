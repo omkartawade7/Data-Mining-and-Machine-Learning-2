{
  "nbformat": 4,
  "nbformat_minor": 0,
  "metadata": {
    "colab": {
      "name": "Umpire_Classifcation_Transfer_Learning.ipynb",
      "provenance": [],
      "collapsed_sections": []
    },
    "kernelspec": {
      "name": "python3",
      "display_name": "Python 3"
    },
    "language_info": {
      "name": "python"
    }
  },
  "cells": [
    {
      "cell_type": "code",
      "metadata": {
        "id": "gZfahXkN6bos"
      },
      "source": [
        "from google.colab import drive\n",
        "from keras.preprocessing.image import ImageDataGenerator, array_to_img, img_to_array, load_img\n",
        "from keras.layers import Input, Lambda, Dense, Flatten\n",
        "from keras.models import Model\n",
        "from keras.applications.vgg16 import VGG16\n",
        "from keras.applications.vgg16 import preprocess_input\n",
        "from tensorflow import keras\n",
        "from tensorflow.keras import layers\n",
        "from keras.preprocessing import image\n",
        "from keras.preprocessing.image import ImageDataGenerator\n",
        "from keras.models import Sequential\n",
        "import numpy as np\n",
        "from glob import glob\n",
        "import matplotlib.pyplot as plt\n",
        "import glob\n",
        "from sklearn.preprocessing import LabelEncoder\n",
        "from sklearn.preprocessing import OneHotEncoder"
      ],
      "execution_count": null,
      "outputs": []
    },
    {
      "cell_type": "code",
      "metadata": {
        "colab": {
          "base_uri": "https://localhost:8080/"
        },
        "id": "NlgEyaK46gZB",
        "outputId": "00ecac2c-b82e-4fed-dca1-98edd38e1c56"
      },
      "source": [
        "drive.mount('/gdrive', force_remount=True)"
      ],
      "execution_count": null,
      "outputs": [
        {
          "output_type": "stream",
          "text": [
            "Mounted at /gdrive\n"
          ],
          "name": "stdout"
        }
      ]
    },
    {
      "cell_type": "code",
      "metadata": {
        "id": "c1nazbqU6MpP"
      },
      "source": [
        "datagen = ImageDataGenerator(\n",
        "        rotation_range=40,\n",
        "        width_shift_range=0.2,\n",
        "        height_shift_range=0.2,\n",
        "        shear_range=0.2,\n",
        "        zoom_range=0.2,\n",
        "        horizontal_flip=True,\n",
        "        fill_mode='nearest')\n",
        "train_files = glob.glob('/gdrive/MyDrive/DMML2Project/Umpire_Classification/Data/non_umpire/*.jpg')\n",
        "j=0\n",
        "IMG_DIM = (240, 240)\n",
        "for img in train_files:\n",
        "  j=j+1\n",
        "  print(img)\n",
        "  img = load_img(img,target_size=IMG_DIM)  # this is a PIL image\n",
        "  x = img_to_array(img)  # this is a Numpy array with shape of image\n",
        "  x= x.reshape((1,) + x.shape)  # this is a Numpy array with shape (1, 3, shape of image)\n",
        "  print(x.shape)\n",
        "\n",
        "  # the .flow() command below generates batches of randomly transformed images\n",
        "  # and saves the results to the `umpire and non_umpire` directory\n",
        "  if (j == 0):\n",
        "    i = 391\n",
        "  count = 0\n",
        "  for batch in datagen.flow(x, batch_size=1,save_to_dir='/gdrive/MyDrive/DMML2Project/Umpire_Classification/non_umpire', save_prefix='non_umpire'+str(i), save_format='jpeg'):\n",
        "    i += 1\n",
        "    count = count+1\n",
        "    if count > 10:\n",
        "      break  # otherwise the generator would loop indefinitely"
      ],
      "execution_count": null,
      "outputs": []
    },
    {
      "cell_type": "code",
      "metadata": {
        "id": "pbKotPBoFowW"
      },
      "source": [
        "# re-size all the images to this\n",
        "IMAGE_SIZE = [224, 224]"
      ],
      "execution_count": null,
      "outputs": []
    },
    {
      "cell_type": "code",
      "metadata": {
        "id": "Q3BNgU3qMKzV"
      },
      "source": [
        "train_path = '/gdrive/MyDrive/DMML2Project/Umpire_Classification/Train/'\n",
        "valid_path = '/gdrive/MyDrive/DMML2Project/Umpire_Classification/Test/'"
      ],
      "execution_count": null,
      "outputs": []
    },
    {
      "cell_type": "code",
      "metadata": {
        "id": "MsiryyOnMtVf"
      },
      "source": [
        "# add preprocessing layer to the front of VGG\n",
        "vgg = VGG16(input_shape=IMAGE_SIZE + [3], weights='imagenet', include_top=False)"
      ],
      "execution_count": null,
      "outputs": []
    },
    {
      "cell_type": "code",
      "metadata": {
        "id": "4IcATca0MycR"
      },
      "source": [
        "# don't train existing weights\n",
        "for layer in vgg.layers:\n",
        "  layer.trainable = False"
      ],
      "execution_count": null,
      "outputs": []
    },
    {
      "cell_type": "code",
      "metadata": {
        "colab": {
          "base_uri": "https://localhost:8080/"
        },
        "id": "4pD9Wxt6M3ua",
        "outputId": "76957444-009c-47a4-c5b3-3b5ba5193b13"
      },
      "source": [
        "# useful for getting number of classes\n",
        "folders = glob.glob('/gdrive/MyDrive/DMML2Project/Umpire_Classification/train/*')\n",
        "temp0 = folders[0]\n",
        "string0 = temp0.split(\"n/\", 1)\n",
        "substring0 = string0[1]\n",
        "folders[0] = substring0\n",
        "temp1 = folders[1]\n",
        "string1 = temp1.split(\"n/\", 1)\n",
        "substring1 = string1[1]\n",
        "folders[1] = substring1\n",
        "folders = np.array(folders)\n",
        "print(folders)"
      ],
      "execution_count": null,
      "outputs": [
        {
          "output_type": "stream",
          "text": [
            "['umpire' 'non_umpire']\n"
          ],
          "name": "stdout"
        }
      ]
    },
    {
      "cell_type": "code",
      "metadata": {
        "colab": {
          "base_uri": "https://localhost:8080/"
        },
        "id": "TwYRoCz2iO0C",
        "outputId": "b81eb1d4-0277-41d1-cc28-e92a88ab3ddb"
      },
      "source": [
        "#One_Hot Enconding of labels\n",
        "le = LabelEncoder()\n",
        "le.fit(folders)\n",
        "folders_enc = le.transform(folders)\n",
        "folders_one_hot_enc = OneHotEncoder(sparse=False)\n",
        "folders_enc = folders_enc.reshape(len(folders_enc), 1)\n",
        "folders_one_hot_enc = folders_one_hot_enc.fit_transform(folders_enc)\n",
        "print(folders_one_hot_enc)"
      ],
      "execution_count": null,
      "outputs": [
        {
          "output_type": "stream",
          "text": [
            "[[0. 1.]\n",
            " [1. 0.]]\n"
          ],
          "name": "stdout"
        }
      ]
    },
    {
      "cell_type": "code",
      "metadata": {
        "id": "BzQ3KeC2e25C"
      },
      "source": [
        "#Flattend and dropout layers added\n",
        "x = Flatten()(vgg.output)\n",
        "x = keras.layers.Dropout(0.2)(x) \n",
        "prediction = Dense(len(folders_enc), activation='softmax')(x)"
      ],
      "execution_count": null,
      "outputs": []
    },
    {
      "cell_type": "code",
      "metadata": {
        "id": "glr96bkde7GV"
      },
      "source": [
        "#Create a model object\n",
        "model = Model(inputs=vgg.input, outputs=prediction)"
      ],
      "execution_count": null,
      "outputs": []
    },
    {
      "cell_type": "code",
      "metadata": {
        "colab": {
          "base_uri": "https://localhost:8080/"
        },
        "id": "VRZHNNwZe9oP",
        "outputId": "c66a3d86-984e-4afe-eb70-9bbf478fe482"
      },
      "source": [
        "#Structure of the model\n",
        "model.summary()"
      ],
      "execution_count": null,
      "outputs": [
        {
          "output_type": "stream",
          "text": [
            "Model: \"model\"\n",
            "_________________________________________________________________\n",
            "Layer (type)                 Output Shape              Param #   \n",
            "=================================================================\n",
            "input_3 (InputLayer)         [(None, 224, 224, 3)]     0         \n",
            "_________________________________________________________________\n",
            "block1_conv1 (Conv2D)        (None, 224, 224, 64)      1792      \n",
            "_________________________________________________________________\n",
            "block1_conv2 (Conv2D)        (None, 224, 224, 64)      36928     \n",
            "_________________________________________________________________\n",
            "block1_pool (MaxPooling2D)   (None, 112, 112, 64)      0         \n",
            "_________________________________________________________________\n",
            "block2_conv1 (Conv2D)        (None, 112, 112, 128)     73856     \n",
            "_________________________________________________________________\n",
            "block2_conv2 (Conv2D)        (None, 112, 112, 128)     147584    \n",
            "_________________________________________________________________\n",
            "block2_pool (MaxPooling2D)   (None, 56, 56, 128)       0         \n",
            "_________________________________________________________________\n",
            "block3_conv1 (Conv2D)        (None, 56, 56, 256)       295168    \n",
            "_________________________________________________________________\n",
            "block3_conv2 (Conv2D)        (None, 56, 56, 256)       590080    \n",
            "_________________________________________________________________\n",
            "block3_conv3 (Conv2D)        (None, 56, 56, 256)       590080    \n",
            "_________________________________________________________________\n",
            "block3_pool (MaxPooling2D)   (None, 28, 28, 256)       0         \n",
            "_________________________________________________________________\n",
            "block4_conv1 (Conv2D)        (None, 28, 28, 512)       1180160   \n",
            "_________________________________________________________________\n",
            "block4_conv2 (Conv2D)        (None, 28, 28, 512)       2359808   \n",
            "_________________________________________________________________\n",
            "block4_conv3 (Conv2D)        (None, 28, 28, 512)       2359808   \n",
            "_________________________________________________________________\n",
            "block4_pool (MaxPooling2D)   (None, 14, 14, 512)       0         \n",
            "_________________________________________________________________\n",
            "block5_conv1 (Conv2D)        (None, 14, 14, 512)       2359808   \n",
            "_________________________________________________________________\n",
            "block5_conv2 (Conv2D)        (None, 14, 14, 512)       2359808   \n",
            "_________________________________________________________________\n",
            "block5_conv3 (Conv2D)        (None, 14, 14, 512)       2359808   \n",
            "_________________________________________________________________\n",
            "block5_pool (MaxPooling2D)   (None, 7, 7, 512)         0         \n",
            "_________________________________________________________________\n",
            "flatten (Flatten)            (None, 25088)             0         \n",
            "_________________________________________________________________\n",
            "dropout (Dropout)            (None, 25088)             0         \n",
            "_________________________________________________________________\n",
            "dense (Dense)                (None, 2)                 50178     \n",
            "=================================================================\n",
            "Total params: 14,764,866\n",
            "Trainable params: 50,178\n",
            "Non-trainable params: 14,714,688\n",
            "_________________________________________________________________\n"
          ],
          "name": "stdout"
        }
      ]
    },
    {
      "cell_type": "code",
      "metadata": {
        "id": "-_xnBOWtfBqO"
      },
      "source": [
        "#Model cost and optimization initalization \n",
        "optimizers = keras.optimizers.Adam(learning_rate=0.0001)\n",
        "model.compile(\n",
        "  loss='categorical_crossentropy',\n",
        "  optimizer=optimizers,\n",
        "  metrics=['accuracy']\n",
        ")"
      ],
      "execution_count": null,
      "outputs": []
    },
    {
      "cell_type": "code",
      "metadata": {
        "colab": {
          "base_uri": "https://localhost:8080/"
        },
        "id": "jXy5KAj8fh5o",
        "outputId": "1f4d894f-876d-472e-ab02-13a354d518dd"
      },
      "source": [
        "#dData Augmentation\n",
        "train_datagen = ImageDataGenerator(rescale = 1./255,\n",
        "                                   shear_range = 0.2,\n",
        "                                   zoom_range = 0.2,\n",
        "                                   horizontal_flip = True)\n",
        "\n",
        "test_datagen = ImageDataGenerator(rescale = 1./255)\n",
        "\n",
        "training_set = train_datagen.flow_from_directory('/gdrive/MyDrive/DMML2Project/Umpire_Classification/Train/',\n",
        "                                                 target_size = (224, 224),\n",
        "                                                 batch_size = 32,\n",
        "                                                 class_mode = 'categorical')\n",
        "\n",
        "test_set = test_datagen.flow_from_directory('/gdrive/MyDrive/DMML2Project/Umpire_Classification/Test/',\n",
        "                                            target_size = (224, 224),\n",
        "                                            batch_size = 32,\n",
        "                                            class_mode = 'categorical')"
      ],
      "execution_count": null,
      "outputs": [
        {
          "output_type": "stream",
          "text": [
            "Found 3432 images belonging to 2 classes.\n",
            "Found 136 images belonging to 2 classes.\n"
          ],
          "name": "stdout"
        }
      ]
    },
    {
      "cell_type": "code",
      "metadata": {
        "colab": {
          "base_uri": "https://localhost:8080/"
        },
        "id": "b3xr01lJfYE-",
        "outputId": "84761333-e078-4acb-8671-cba612de7ebf"
      },
      "source": [
        "#Fit the model\n",
        "r = model.fit_generator(\n",
        "  training_set,\n",
        "  validation_data=test_set,\n",
        "  epochs=4,\n",
        "  steps_per_epoch=len(training_set),\n",
        "  validation_steps=len(test_set)\n",
        ")"
      ],
      "execution_count": null,
      "outputs": [
        {
          "output_type": "stream",
          "text": [
            "/usr/local/lib/python3.7/dist-packages/tensorflow/python/keras/engine/training.py:1844: UserWarning: `Model.fit_generator` is deprecated and will be removed in a future version. Please use `Model.fit`, which supports generators.\n",
            "  warnings.warn('`Model.fit_generator` is deprecated and '\n"
          ],
          "name": "stderr"
        },
        {
          "output_type": "stream",
          "text": [
            "Epoch 1/4\n",
            "108/108 [==============================] - 1193s 11s/step - loss: 0.6081 - accuracy: 0.6685 - val_loss: 0.3531 - val_accuracy: 0.8750\n",
            "Epoch 2/4\n",
            "108/108 [==============================] - 1189s 11s/step - loss: 0.3425 - accuracy: 0.8502 - val_loss: 0.2708 - val_accuracy: 0.8824\n",
            "Epoch 3/4\n",
            "108/108 [==============================] - 1187s 11s/step - loss: 0.2422 - accuracy: 0.9144 - val_loss: 0.2410 - val_accuracy: 0.9044\n",
            "Epoch 4/4\n",
            "108/108 [==============================] - 1186s 11s/step - loss: 0.2011 - accuracy: 0.9337 - val_loss: 0.2136 - val_accuracy: 0.8971\n"
          ],
          "name": "stdout"
        }
      ]
    },
    {
      "cell_type": "code",
      "metadata": {
        "colab": {
          "base_uri": "https://localhost:8080/",
          "height": 280
        },
        "id": "-oki8DoHHwYd",
        "outputId": "f5d4c145-6084-4a95-963c-cf5768be61cd"
      },
      "source": [
        "#Loss\n",
        "plt.plot(r.history['loss'], label='train loss')\n",
        "plt.plot(r.history['val_loss'], label='val loss')\n",
        "plt.legend()\n",
        "plt.show()\n",
        "plt.savefig('LossVal_loss')"
      ],
      "execution_count": null,
      "outputs": [
        {
          "output_type": "display_data",
          "data": {
            "image/png": "[encoded data removed]",
            "text/plain": [
              "<Figure size 432x288 with 1 Axes>"
            ]
          },
          "metadata": {
            "tags": [],
            "needs_background": "light"
          }
        },
        {
          "output_type": "display_data",
          "data": {
            "text/plain": [
              "<Figure size 432x288 with 0 Axes>"
            ]
          },
          "metadata": {
            "tags": []
          }
        }
      ]
    }
  ]
}